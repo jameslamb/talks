{
 "cells": [
  {
   "cell_type": "markdown",
   "metadata": {},
   "source": [
    "# LightGBM + Dask\n",
    "\n",
    "<table>\n",
    "    <tr>\n",
    "        <td>\n",
    "            <img src=\"./_img/lightgbm.svg\" width=\"300\">\n",
    "        </td>\n",
    "        <td>\n",
    "            <img src=\"./_img/dask-horizontal.svg\" width=\"300\">\n",
    "        </td>\n",
    "    </tr>\n",
    "</table>"
   ]
  },
  {
   "cell_type": "markdown",
   "metadata": {},
   "source": [
    "This notebook shows how to use `lightgbm.dask` to train a LightGBM model on data stored as a [Dask DataFrame](https://docs.dask.org/en/latest/dataframe.html) or [Dask Array](https://docs.dask.org/en/latest/array.html).\n",
    "\n",
    "It uses `LocalCluster` to run on this machine only. If you want to try with a distributed cluster on AWS Fargate, see [the AWS notebook](./aws.ipynb)."
   ]
  },
  {
   "cell_type": "code",
   "execution_count": 7,
   "metadata": {},
   "outputs": [],
   "source": [
    "import dask.array as da\n",
    "import os\n",
    "\n",
    "from dask.distributed import Client, LocalCluster, wait\n",
    "\n",
    "from lightgbm.dask import DaskLGBMRegressor"
   ]
  },
  {
   "cell_type": "markdown",
   "metadata": {},
   "source": [
    "Create a cluster with 3 workers. Since this is a `LocalCluster`, those workers are just 3 local processes."
   ]
  },
  {
   "cell_type": "code",
   "execution_count": 8,
   "metadata": {},
   "outputs": [
    {
     "name": "stderr",
     "output_type": "stream",
     "text": [
      "/opt/conda/lib/python3.8/site-packages/distributed/node.py:151: UserWarning: Port 8787 is already in use.\n",
      "Perhaps you already have a cluster running?\n",
      "Hosting the HTTP server on port 36503 instead\n",
      "  warnings.warn(\n"
     ]
    },
    {
     "name": "stdout",
     "output_type": "stream",
     "text": [
      "View the dashboard: http://127.0.0.1:36503/status\n"
     ]
    }
   ],
   "source": [
    "n_workers = 3\n",
    "cluster = LocalCluster()\n",
    "client = Client(cluster)\n",
    "client.wait_for_workers(n_workers)\n",
    "\n",
    "print(f\"View the dashboard: {cluster.dashboard_link}\")"
   ]
  },
  {
   "cell_type": "markdown",
   "metadata": {},
   "source": [
    "Click the link above to view a diagnostic dashboard while you run the training code below."
   ]
  },
  {
   "cell_type": "code",
   "execution_count": 9,
   "metadata": {},
   "outputs": [],
   "source": [
    "num_rows = 1e6\n",
    "num_features = 1e2\n",
    "num_partitions = 10\n",
    "rows_per_chunk = num_rows / num_partitions\n",
    "\n",
    "data = da.random.random(\n",
    "    (num_rows, num_features),\n",
    "    (rows_per_chunk, num_features)\n",
    ")\n",
    "\n",
    "labels = da.random.random(\n",
    "    (num_rows, 1),\n",
    "    (rows_per_chunk, 1)\n",
    ")"
   ]
  },
  {
   "cell_type": "markdown",
   "metadata": {},
   "source": [
    "Right now, the Dask Arrays `data` and `labels` are lazy. Before training, you can force the cluster to compute them by running `.persist()` and then wait for that computation to finish by `wait()`-ing on them."
   ]
  },
  {
   "cell_type": "code",
   "execution_count": 10,
   "metadata": {},
   "outputs": [],
   "source": [
    "data = data.persist()\n",
    "labels = labels.persist()\n",
    "_ = wait(data)\n",
    "_ = wait(labels)"
   ]
  },
  {
   "cell_type": "markdown",
   "metadata": {},
   "source": [
    "With the data set up on the workers, train a model. `lightgbm.dask.DaskLGBMRegressor` has an interface that tries to stay as close as possible to the non-Dask scikit-learn interface to LightGBM (`lightgbm.sklearn.LGBMRegressor`)."
   ]
  },
  {
   "cell_type": "code",
   "execution_count": 11,
   "metadata": {},
   "outputs": [
    {
     "data": {
      "text/plain": [
       "DaskLGBMRegressor(local_listen_port=12400,\n",
       "                  machines='127.0.0.1:12400,127.0.0.1:12401,127.0.0.1:12402,127.0.0.1:12403',\n",
       "                  max_depth=5, min_child_samples=1, n_estimators=10,\n",
       "                  num_machines=4, num_threads=2, objective='regression_l2',\n",
       "                  random_state=708, silent=False, time_out=120,\n",
       "                  tree_learner='data')"
      ]
     },
     "execution_count": 11,
     "metadata": {},
     "output_type": "execute_result"
    }
   ],
   "source": [
    "dask_reg = DaskLGBMRegressor(\n",
    "    silent=False,\n",
    "    max_depth=5,\n",
    "    random_state=708,\n",
    "    objective=\"regression_l2\",\n",
    "    learning_rate=0.1,\n",
    "    tree_learner=\"data\",\n",
    "    n_estimators=10,\n",
    "    min_child_samples=1,\n",
    "    n_jobs=-1\n",
    ")\n",
    "\n",
    "dask_reg.fit(\n",
    "    client=client,\n",
    "    X=data,\n",
    "    y=labels,\n",
    ")"
   ]
  },
  {
   "cell_type": "markdown",
   "metadata": {},
   "source": [
    "The model produced by this training run is an instance of `DaskLGBMRegressor`. To get a regular non-Dask model (which can be pickled and saved), run `.to_local()`."
   ]
  },
  {
   "cell_type": "code",
   "execution_count": 12,
   "metadata": {},
   "outputs": [
    {
     "data": {
      "text/plain": [
       "lightgbm.sklearn.LGBMRegressor"
      ]
     },
     "execution_count": 12,
     "metadata": {},
     "output_type": "execute_result"
    }
   ],
   "source": [
    "local_model = dask_reg.to_local()\n",
    "type(local_model)"
   ]
  },
  {
   "cell_type": "markdown",
   "metadata": {},
   "source": [
    "You can visualize this model by looking at a data frame representation of it."
   ]
  },
  {
   "cell_type": "code",
   "execution_count": 17,
   "metadata": {},
   "outputs": [
    {
     "data": {
      "text/html": [
       "<div>\n",
       "<style scoped>\n",
       "    .dataframe tbody tr th:only-of-type {\n",
       "        vertical-align: middle;\n",
       "    }\n",
       "\n",
       "    .dataframe tbody tr th {\n",
       "        vertical-align: top;\n",
       "    }\n",
       "\n",
       "    .dataframe thead th {\n",
       "        text-align: right;\n",
       "    }\n",
       "</style>\n",
       "<table border=\"1\" class=\"dataframe\">\n",
       "  <thead>\n",
       "    <tr style=\"text-align: right;\">\n",
       "      <th></th>\n",
       "      <th>tree_index</th>\n",
       "      <th>node_depth</th>\n",
       "      <th>node_index</th>\n",
       "      <th>left_child</th>\n",
       "      <th>right_child</th>\n",
       "      <th>parent_index</th>\n",
       "      <th>split_feature</th>\n",
       "      <th>split_gain</th>\n",
       "      <th>threshold</th>\n",
       "      <th>decision_type</th>\n",
       "      <th>missing_direction</th>\n",
       "      <th>missing_type</th>\n",
       "      <th>value</th>\n",
       "      <th>weight</th>\n",
       "      <th>count</th>\n",
       "    </tr>\n",
       "  </thead>\n",
       "  <tbody>\n",
       "    <tr>\n",
       "      <th>0</th>\n",
       "      <td>0</td>\n",
       "      <td>1</td>\n",
       "      <td>0-S0</td>\n",
       "      <td>0-S1</td>\n",
       "      <td>0-S2</td>\n",
       "      <td>None</td>\n",
       "      <td>Column_48</td>\n",
       "      <td>1.044720</td>\n",
       "      <td>0.587599</td>\n",
       "      <td>&lt;=</td>\n",
       "      <td>left</td>\n",
       "      <td>None</td>\n",
       "      <td>0.500732</td>\n",
       "      <td>0.0</td>\n",
       "      <td>1000000</td>\n",
       "    </tr>\n",
       "    <tr>\n",
       "      <th>1</th>\n",
       "      <td>0</td>\n",
       "      <td>2</td>\n",
       "      <td>0-S1</td>\n",
       "      <td>0-S6</td>\n",
       "      <td>0-S16</td>\n",
       "      <td>0-S0</td>\n",
       "      <td>Column_29</td>\n",
       "      <td>1.207930</td>\n",
       "      <td>0.621069</td>\n",
       "      <td>&lt;=</td>\n",
       "      <td>left</td>\n",
       "      <td>None</td>\n",
       "      <td>0.500804</td>\n",
       "      <td>587338.0</td>\n",
       "      <td>587338</td>\n",
       "    </tr>\n",
       "    <tr>\n",
       "      <th>2</th>\n",
       "      <td>0</td>\n",
       "      <td>3</td>\n",
       "      <td>0-S6</td>\n",
       "      <td>0-S7</td>\n",
       "      <td>0-S9</td>\n",
       "      <td>0-S1</td>\n",
       "      <td>Column_92</td>\n",
       "      <td>1.062580</td>\n",
       "      <td>0.382854</td>\n",
       "      <td>&lt;=</td>\n",
       "      <td>left</td>\n",
       "      <td>None</td>\n",
       "      <td>0.500692</td>\n",
       "      <td>365018.0</td>\n",
       "      <td>365018</td>\n",
       "    </tr>\n",
       "    <tr>\n",
       "      <th>3</th>\n",
       "      <td>0</td>\n",
       "      <td>4</td>\n",
       "      <td>0-S7</td>\n",
       "      <td>0-S8</td>\n",
       "      <td>0-S20</td>\n",
       "      <td>0-S6</td>\n",
       "      <td>Column_49</td>\n",
       "      <td>1.636070</td>\n",
       "      <td>0.819036</td>\n",
       "      <td>&lt;=</td>\n",
       "      <td>left</td>\n",
       "      <td>None</td>\n",
       "      <td>0.500909</td>\n",
       "      <td>139139.0</td>\n",
       "      <td>139139</td>\n",
       "    </tr>\n",
       "    <tr>\n",
       "      <th>4</th>\n",
       "      <td>0</td>\n",
       "      <td>5</td>\n",
       "      <td>0-S8</td>\n",
       "      <td>0-L0</td>\n",
       "      <td>0-L9</td>\n",
       "      <td>0-S7</td>\n",
       "      <td>Column_73</td>\n",
       "      <td>1.245770</td>\n",
       "      <td>0.217072</td>\n",
       "      <td>&lt;=</td>\n",
       "      <td>left</td>\n",
       "      <td>None</td>\n",
       "      <td>0.501070</td>\n",
       "      <td>114127.0</td>\n",
       "      <td>114127</td>\n",
       "    </tr>\n",
       "    <tr>\n",
       "      <th>...</th>\n",
       "      <td>...</td>\n",
       "      <td>...</td>\n",
       "      <td>...</td>\n",
       "      <td>...</td>\n",
       "      <td>...</td>\n",
       "      <td>...</td>\n",
       "      <td>...</td>\n",
       "      <td>...</td>\n",
       "      <td>...</td>\n",
       "      <td>...</td>\n",
       "      <td>...</td>\n",
       "      <td>...</td>\n",
       "      <td>...</td>\n",
       "      <td>...</td>\n",
       "      <td>...</td>\n",
       "    </tr>\n",
       "    <tr>\n",
       "      <th>603</th>\n",
       "      <td>9</td>\n",
       "      <td>6</td>\n",
       "      <td>9-L10</td>\n",
       "      <td>None</td>\n",
       "      <td>None</td>\n",
       "      <td>9-S15</td>\n",
       "      <td>None</td>\n",
       "      <td>NaN</td>\n",
       "      <td>NaN</td>\n",
       "      <td>None</td>\n",
       "      <td>None</td>\n",
       "      <td>None</td>\n",
       "      <td>-0.000333</td>\n",
       "      <td>17658.0</td>\n",
       "      <td>17658</td>\n",
       "    </tr>\n",
       "    <tr>\n",
       "      <th>604</th>\n",
       "      <td>9</td>\n",
       "      <td>6</td>\n",
       "      <td>9-L16</td>\n",
       "      <td>None</td>\n",
       "      <td>None</td>\n",
       "      <td>9-S15</td>\n",
       "      <td>None</td>\n",
       "      <td>NaN</td>\n",
       "      <td>NaN</td>\n",
       "      <td>None</td>\n",
       "      <td>None</td>\n",
       "      <td>None</td>\n",
       "      <td>0.001127</td>\n",
       "      <td>4387.0</td>\n",
       "      <td>4387</td>\n",
       "    </tr>\n",
       "    <tr>\n",
       "      <th>605</th>\n",
       "      <td>9</td>\n",
       "      <td>5</td>\n",
       "      <td>9-S13</td>\n",
       "      <td>9-L13</td>\n",
       "      <td>9-L14</td>\n",
       "      <td>9-S12</td>\n",
       "      <td>Column_51</td>\n",
       "      <td>0.853396</td>\n",
       "      <td>0.055757</td>\n",
       "      <td>&lt;=</td>\n",
       "      <td>left</td>\n",
       "      <td>None</td>\n",
       "      <td>-0.005640</td>\n",
       "      <td>278.0</td>\n",
       "      <td>278</td>\n",
       "    </tr>\n",
       "    <tr>\n",
       "      <th>606</th>\n",
       "      <td>9</td>\n",
       "      <td>6</td>\n",
       "      <td>9-L13</td>\n",
       "      <td>None</td>\n",
       "      <td>None</td>\n",
       "      <td>9-S13</td>\n",
       "      <td>None</td>\n",
       "      <td>NaN</td>\n",
       "      <td>NaN</td>\n",
       "      <td>None</td>\n",
       "      <td>None</td>\n",
       "      <td>None</td>\n",
       "      <td>-0.028840</td>\n",
       "      <td>15.0</td>\n",
       "      <td>15</td>\n",
       "    </tr>\n",
       "    <tr>\n",
       "      <th>607</th>\n",
       "      <td>9</td>\n",
       "      <td>6</td>\n",
       "      <td>9-L14</td>\n",
       "      <td>None</td>\n",
       "      <td>None</td>\n",
       "      <td>9-S13</td>\n",
       "      <td>None</td>\n",
       "      <td>NaN</td>\n",
       "      <td>NaN</td>\n",
       "      <td>None</td>\n",
       "      <td>None</td>\n",
       "      <td>None</td>\n",
       "      <td>-0.004317</td>\n",
       "      <td>263.0</td>\n",
       "      <td>263</td>\n",
       "    </tr>\n",
       "  </tbody>\n",
       "</table>\n",
       "<p>608 rows × 15 columns</p>\n",
       "</div>"
      ],
      "text/plain": [
       "     tree_index  node_depth node_index left_child right_child parent_index  \\\n",
       "0             0           1       0-S0       0-S1        0-S2         None   \n",
       "1             0           2       0-S1       0-S6       0-S16         0-S0   \n",
       "2             0           3       0-S6       0-S7        0-S9         0-S1   \n",
       "3             0           4       0-S7       0-S8       0-S20         0-S6   \n",
       "4             0           5       0-S8       0-L0        0-L9         0-S7   \n",
       "..          ...         ...        ...        ...         ...          ...   \n",
       "603           9           6      9-L10       None        None        9-S15   \n",
       "604           9           6      9-L16       None        None        9-S15   \n",
       "605           9           5      9-S13      9-L13       9-L14        9-S12   \n",
       "606           9           6      9-L13       None        None        9-S13   \n",
       "607           9           6      9-L14       None        None        9-S13   \n",
       "\n",
       "    split_feature  split_gain  threshold decision_type missing_direction  \\\n",
       "0       Column_48    1.044720   0.587599            <=              left   \n",
       "1       Column_29    1.207930   0.621069            <=              left   \n",
       "2       Column_92    1.062580   0.382854            <=              left   \n",
       "3       Column_49    1.636070   0.819036            <=              left   \n",
       "4       Column_73    1.245770   0.217072            <=              left   \n",
       "..            ...         ...        ...           ...               ...   \n",
       "603          None         NaN        NaN          None              None   \n",
       "604          None         NaN        NaN          None              None   \n",
       "605     Column_51    0.853396   0.055757            <=              left   \n",
       "606          None         NaN        NaN          None              None   \n",
       "607          None         NaN        NaN          None              None   \n",
       "\n",
       "    missing_type     value    weight    count  \n",
       "0           None  0.500732       0.0  1000000  \n",
       "1           None  0.500804  587338.0   587338  \n",
       "2           None  0.500692  365018.0   365018  \n",
       "3           None  0.500909  139139.0   139139  \n",
       "4           None  0.501070  114127.0   114127  \n",
       "..           ...       ...       ...      ...  \n",
       "603         None -0.000333   17658.0    17658  \n",
       "604         None  0.001127    4387.0     4387  \n",
       "605         None -0.005640     278.0      278  \n",
       "606         None -0.028840      15.0       15  \n",
       "607         None -0.004317     263.0      263  \n",
       "\n",
       "[608 rows x 15 columns]"
      ]
     },
     "execution_count": 17,
     "metadata": {},
     "output_type": "execute_result"
    }
   ],
   "source": [
    "local_model.booster_.trees_to_dataframe()"
   ]
  }
 ],
 "metadata": {
  "kernelspec": {
   "display_name": "Python 3",
   "language": "python",
   "name": "python3"
  },
  "language_info": {
   "codemirror_mode": {
    "name": "ipython",
    "version": 3
   },
   "file_extension": ".py",
   "mimetype": "text/x-python",
   "name": "python",
   "nbconvert_exporter": "python",
   "pygments_lexer": "ipython3",
   "version": "3.8.5"
  }
 },
 "nbformat": 4,
 "nbformat_minor": 4
}
